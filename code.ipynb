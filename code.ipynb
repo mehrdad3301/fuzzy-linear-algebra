{
 "cells": [
  {
   "cell_type": "code",
   "execution_count": 509,
   "id": "566ea253",
   "metadata": {},
   "outputs": [],
   "source": [
    "from sympy import *\n",
    "import numpy as np \n",
    "import matplotlib.pyplot as plt \n",
    "import matplotlib.patches as mpatches"
   ]
  },
  {
   "cell_type": "code",
   "execution_count": 510,
   "id": "17b4c642",
   "metadata": {},
   "outputs": [],
   "source": [
    "r = symbols('r') "
   ]
  },
  {
   "cell_type": "code",
   "execution_count": 511,
   "id": "4dc07f46",
   "metadata": {},
   "outputs": [],
   "source": [
    "def gauss_seidel(iter_, a, x, y, show_steps=False): \n",
    "    \n",
    "    def init_b(i, j) : \n",
    "        if a[i, j] >= 0 : \n",
    "            return a[i, j] \n",
    "        return 0\n",
    "    def init_c(i, j) : \n",
    "        if a[i, j] < 0 : \n",
    "            return -a[i, j] \n",
    "        return 0\n",
    "    b = Matrix(*shape(a), init_b)\n",
    "    c = Matrix(*shape(a), init_c)\n",
    "    \n",
    "    l_b = b.lower_triangular() \n",
    "    d_b = l_b.upper_triangular() \n",
    "    l_b = l_b.lower_triangular(-1) \n",
    "    u_b = b.upper_triangular(1)\n",
    "    \n",
    "    inv = (l_b + d_b).inv()\n",
    "\n",
    "    M_gs = Matrix([[- inv * u_b, inv * c],\n",
    "                    [inv * c, - inv * u_b]])\n",
    "\n",
    "    C_gs = Matrix([inv * Matrix(y[:len(y) // 2]), inv * Matrix(y[len(y) // 2:])]) \n",
    "\n",
    "    for i in range(iter_) :\n",
    "        if show_steps : \n",
    "            display(x)\n",
    "            print(f'x ({i})')\n",
    "        x = M_gs * x + C_gs \n",
    "    return x "
   ]
  },
  {
   "cell_type": "code",
   "execution_count": 515,
   "id": "e7a2d914",
   "metadata": {
    "scrolled": false
   },
   "outputs": [],
   "source": [
    "# gauss-seidel solving first example\n",
    "# run this cell with show_steps=True to see each iteration\n",
    "a = Matrix([[1, -1], [1, 3]]) \n",
    "x = zeros(4, 1) \n",
    "y = Matrix([r, 4 + r, 2 - r,  7 - 2 * r])\n",
    "gs_solution = gauss_seidel(5, a, x, y, show_steps=False)"
   ]
  },
  {
   "cell_type": "code",
   "execution_count": 516,
   "id": "80147548",
   "metadata": {},
   "outputs": [],
   "source": [
    "def jacobian(iter_, a, x, y, show_steps=False): \n",
    "    \n",
    "    def init_b(i, j) : \n",
    "        if a[i, j] >= 0 : \n",
    "            return a[i, j] \n",
    "        return 0\n",
    "    def init_c(i, j) : \n",
    "        if a[i, j] < 0 : \n",
    "            return -a[i, j] \n",
    "        return 0\n",
    "    \n",
    "    b = Matrix(*shape(a), init_b)\n",
    "    c = Matrix(*shape(a), init_c)\n",
    "    \n",
    "    l_b = b.lower_triangular() \n",
    "    d_b = l_b.upper_triangular() \n",
    "    l_b = l_b.lower_triangular(-1) \n",
    "    u_b = b.upper_triangular(1)\n",
    "    \n",
    "    inv = d_b.inv() \n",
    "\n",
    "    M_gs = Matrix([[- inv* l_b, inv * c],\n",
    "                    [inv * c, - inv * l_b]])\n",
    "\n",
    "    C_gs = Matrix([inv * Matrix(y[:len(y) // 2]), inv * Matrix(y[len(y) // 2:])]) \n",
    "    for i in range(iter_) :  \n",
    "        if show_steps :\n",
    "            display(x)\n",
    "            print(f'x ({i})')\n",
    "        x = M_gs * x + C_gs \n",
    "    return x "
   ]
  },
  {
   "cell_type": "code",
   "execution_count": 517,
   "id": "59a6ee85",
   "metadata": {},
   "outputs": [],
   "source": [
    "# jacobian solving first example, \n",
    "# run this cell with show_steps=True to see each iteration\n",
    "a = Matrix([[1, -1], [1, 3]]) \n",
    "x = zeros(4, 1) \n",
    "y = Matrix([r, 4 + r, 2 - r,  7 - 2 * r])\n",
    "j_solution = jacobian(6, a, x, y, show_steps=False)"
   ]
  },
  {
   "cell_type": "code",
   "execution_count": 518,
   "id": "f74be883",
   "metadata": {},
   "outputs": [],
   "source": [
    "def plot_fuzzy_number(x1, x2, *args) : \n",
    "    def line_x_y(u1, u2) : \n",
    "        x = np.linspace(0, 1, 30)\n",
    "        return list(u1[0] + u1[1] * x) + list(u2[0] + u2[1] * x), list(x) + list(x) \n",
    "    ax = plt.gca()\n",
    "    ax.plot(*line_x_y(x1, x2), *args)\n",
    "\n",
    "def plot_fuzzy_solution(x, *args) : \n",
    "    def get_coef(x) : \n",
    "        b = x.subs(r, 0) \n",
    "        a = x.subs(r, 1) - b \n",
    "        return b, a\n",
    "    \n",
    "    n = len(x) // 2\n",
    "    for i in range(n) :\n",
    "        x1 = get_coef(x[i]) \n",
    "        x2 = get_coef(x[n + i]) \n",
    "        plot_fuzzy_number(x1, x2, *args) "
   ]
  },
  {
   "cell_type": "code",
   "execution_count": null,
   "id": "c03b0dc8",
   "metadata": {},
   "outputs": [],
   "source": [
    "# comparing results in the first example \n",
    "real_solution = Matrix([[1.375 + 0.625 * r], \n",
    "           [0.875 + 0.125 * r], \n",
    "           [2.875 - 0.875 * r], \n",
    "           [1.375 - 0.375 * r]])\n",
    "\n",
    "plot_fuzzy_solution(j_solution, 'r+') \n",
    "plot_fuzzy_solution(gs_solution, 'go')\n",
    "plot_fuzzy_solution(real_solution, 'b')\n",
    "handles = []\n",
    "handles.append(mpatches.Patch(color='red', label='jacobian - 5 iterations'))\n",
    "handles.append(mpatches.Patch(color='green', label='guass - 4 iterations')) \n",
    "handles.append(mpatches.Patch(color='blue', label='solution'))\n",
    "ax = plt.gca()\n",
    "ax.legend(handles=[*handles], bbox_to_anchor=(1.05, 1),\n",
    "          loc='best', borderaxespad=0.)"
   ]
  },
  {
   "cell_type": "code",
   "execution_count": null,
   "id": "01055309",
   "metadata": {},
   "outputs": [],
   "source": [
    "# plotting figure in example 2 \n",
    "real_solution = Matrix([[-2.31 + 3.62 * r], \n",
    "           [-0.62 - 0.77 * r], \n",
    "           [1.08 - 2.15 * r], \n",
    "           [4.69 - 3.38  * r], \n",
    "           [-1.62 + 0.23 * r], \n",
    "           [-2.92 + 1.85 * r]])\n",
    "\n",
    "plot_fuzzy_solution(real_solution, 'b')"
   ]
  },
  {
   "cell_type": "code",
   "execution_count": null,
   "id": "3a7039a4",
   "metadata": {},
   "outputs": [],
   "source": [
    "# comparing iterative methods in the third example\n",
    "real_solution = Matrix([[0.1399 * r - 0.4125],\n",
    "            [0.2894 * r + 0.9125], \n",
    "            [-0.1897 * r - 0.6969], \n",
    "            [-0.3217 * r + 0.0351], \n",
    "            [0.0970 * r + 1.1076], \n",
    "            [- 0.1513 * r - 0.7353]])\n",
    "\n",
    "a = Matrix([[4, 1, -1], [-1, 3, 1], [2, 1, 3]]) \n",
    "x = zeros(6, 1) \n",
    "y = Matrix([r, 2 + r, -2, 2 - r, 3, - 1 - r])\n",
    "j_solution = jacobian(10, a, x, y, show_steps=False)\n",
    "gs_solution = gauss_seidel(4, a, x, y, show_steps=False)\n",
    "plot_fuzzy_solution(j_solution, 'r+') \n",
    "plot_fuzzy_solution(gs_solution, 'go')\n",
    "plot_fuzzy_solution(real_solution, 'b')\n",
    "handles = []\n",
    "handles.append(mpatches.Patch(color='red', label='jacobian - 10 iterations'))\n",
    "handles.append(mpatches.Patch(color='green', label='guass - 4 iterations')) \n",
    "handles.append(mpatches.Patch(color='blue', label='solution'))\n",
    "ax = plt.gca()\n",
    "ax.legend(handles=[*handles], bbox_to_anchor=(1.05, 1),\n",
    "          loc='best', borderaxespad=0.)"
   ]
  }
 ],
 "metadata": {
  "kernelspec": {
   "display_name": "Python 3 (ipykernel)",
   "language": "python",
   "name": "python3"
  },
  "language_info": {
   "codemirror_mode": {
    "name": "ipython",
    "version": 3
   },
   "file_extension": ".py",
   "mimetype": "text/x-python",
   "name": "python",
   "nbconvert_exporter": "python",
   "pygments_lexer": "ipython3",
   "version": "3.8.8"
  }
 },
 "nbformat": 4,
 "nbformat_minor": 5
}
